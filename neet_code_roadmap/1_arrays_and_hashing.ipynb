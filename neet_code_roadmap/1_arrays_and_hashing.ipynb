{
 "cells": [
  {
   "cell_type": "markdown",
   "metadata": {},
   "source": [
    "# Arrays and Hashing"
   ]
  },
  {
   "cell_type": "markdown",
   "metadata": {},
   "source": [
    "### Contains Duplicate\n",
    "\n",
    "Given an <span style = \"color:yellow\">integer array</span> *nums*, return true if any value appears at least twice in the array, and return false if every element is distinct.\n",
    "\n",
    "Example 1:\n",
    "\n",
    "Input: nums = [1,2,3,1]\n",
    "Output: true"
   ]
  },
  {
   "cell_type": "code",
   "execution_count": 3,
   "metadata": {},
   "outputs": [],
   "source": [
    "#answer \n",
    "def contains_dup(nums:[int])->bool:\n",
    "    return True if len(set(nums.copy())) != len(nums) else False\n"
   ]
  },
  {
   "cell_type": "code",
   "execution_count": 4,
   "metadata": {},
   "outputs": [
    {
     "data": {
      "text/plain": [
       "True"
      ]
     },
     "execution_count": 4,
     "metadata": {},
     "output_type": "execute_result"
    }
   ],
   "source": [
    "#test\n",
    "contains_dup([1,2,3,1])"
   ]
  },
  {
   "cell_type": "markdown",
   "metadata": {},
   "source": [
    "### Valid Anagram\n",
    "\n",
    "Given <span style = \"color:yellow\">two strings</span> *s* and *t* , return true if *t* is an anagram of *s*, and *false* otherwise.\n",
    "\n",
    "An **Anagram** is a word or phrase formed by rearranging the letters of a different word or phrase, typically using all the original letters exactly once\n",
    "\n",
    "Example 1:\n",
    "\n",
    "Input: s = \"anagram\", t = \"nagaram\"\n",
    "Output: true"
   ]
  },
  {
   "cell_type": "code",
   "execution_count": 6,
   "metadata": {},
   "outputs": [],
   "source": [
    "#answer\n",
    "def is_anagram(s:str,t:str)->bool:\n",
    "    return True if ''.join(sorted(s)) == ''.join(sorted(t)) else False\n"
   ]
  },
  {
   "cell_type": "code",
   "execution_count": 9,
   "metadata": {},
   "outputs": [
    {
     "data": {
      "text/plain": [
       "False"
      ]
     },
     "execution_count": 9,
     "metadata": {},
     "output_type": "execute_result"
    }
   ],
   "source": [
    "#tests\n",
    "is_anagram('tac','cat')\n",
    "is_anagram('bat','cat')"
   ]
  },
  {
   "cell_type": "markdown",
   "metadata": {},
   "source": [
    "### Two Sum\n",
    "\n",
    "Given an <span style = \"color:yellow\">array of integers</span> *nums* and an integer *target*, return indices of the two numbers such that they add up to target.\n",
    "\n",
    "You may assume that each input would have **exactly one solution**, and you may not use the same element twice.\n",
    "\n",
    "You can return the answer in any order.\n",
    "\n",
    "Example 1:\n",
    "\n",
    "Input: nums = [2,7,11,15], target = 9\n",
    "Output: [0,1]\n",
    "\n",
    "Explanation: Because nums[0] + nums[1] == 9, we return [0, 1]."
   ]
  },
  {
   "cell_type": "code",
   "execution_count": 51,
   "metadata": {},
   "outputs": [],
   "source": [
    "#answer\n",
    "def indices_sum(nums:[int],target:int)->[int]:\n",
    "    seen = {}\n",
    "    for index,num in enumerate(nums):\n",
    "        search = target - num\n",
    "        if search in seen.keys():\n",
    "            return [seen[search], index]\n",
    "        else:\n",
    "            seen[num] = index\n"
   ]
  },
  {
   "cell_type": "code",
   "execution_count": 52,
   "metadata": {},
   "outputs": [
    {
     "data": {
      "text/plain": [
       "[1, 2]"
      ]
     },
     "execution_count": 52,
     "metadata": {},
     "output_type": "execute_result"
    }
   ],
   "source": [
    "#tests\n",
    "indices_sum([3,3],6)\n",
    "indices_sum([2,7,11,15],9)\n",
    "indices_sum([3,2,4],6)\n"
   ]
  },
  {
   "cell_type": "markdown",
   "metadata": {},
   "source": [
    "### Group Anagrams\n",
    "\n",
    "Given an **array of strings** strs, group the anagrams together. You can return the answer in any order.\n",
    "\n",
    "An Anagram is a word or phrase formed by rearranging the letters of a different word or phrase, typically using all the original letters exactly once.\n",
    "\n",
    "Example 1:\n",
    "\n",
    "Input: strs = [\"eat\",\"tea\",\"tan\",\"ate\",\"nat\",\"bat\"]\n",
    "Output: [[\"bat\"],[\"nat\",\"tan\"],[\"ate\",\"eat\",\"tea\"]]"
   ]
  },
  {
   "cell_type": "code",
   "execution_count": null,
   "metadata": {},
   "outputs": [],
   "source": [
    "def group_anagrams(strs:[str]):\n",
    "    strs_table = {}\n",
    "\n",
    "    for string in strs:\n",
    "        sorted_string = ''.join(sorted(string))\n",
    "\n",
    "        if sorted_string not in strs_table:\n",
    "            strs_table[sorted_string] = []\n",
    "\n",
    "        strs_table[sorted_string].append(string)\n",
    "\n",
    "    return list(strs_table.values())\n"
   ]
  },
  {
   "cell_type": "code",
   "execution_count": null,
   "metadata": {},
   "outputs": [],
   "source": [
    "#alternative solution\n",
    "\n",
    "def group_anagrams2(str_array):\n",
    "    srtd_lst = [''.join(sorted(i)) for i in str_array]\n",
    "    seen = {}\n",
    "    for index,word in enumerate(srtd_lst):\n",
    "        if word in seen.keys():\n",
    "            seen[word].append(index)\n",
    "        else:\n",
    "            seen[word] = [index]\n",
    "    answer = []\n",
    "    for value in seen.values():\n",
    "        i = []\n",
    "        for index in value: \n",
    "            i.append(str_array[index])\n",
    "        answer.append(i)\n",
    "    return answer\n"
   ]
  },
  {
   "cell_type": "code",
   "execution_count": null,
   "metadata": {},
   "outputs": [],
   "source": [
    "#tests\n",
    "group_anagrams([\"eat\",\"tea\",\"tan\",\"ate\",\"nat\",\"bat\"])"
   ]
  },
  {
   "cell_type": "markdown",
   "metadata": {},
   "source": [
    "### Top K Frequent Elements\n",
    "\n",
    "Given an **integer array** nums and an **integer** k, return *the k most frequent elements*. You may return the answer in any order.\n",
    "\n",
    "Example 1:\n",
    "\n",
    "Input: nums = [1,1,1,2,2,3], k = 2\n",
    "Output: [1,2]"
   ]
  },
  {
   "cell_type": "code",
   "execution_count": 24,
   "metadata": {},
   "outputs": [],
   "source": [
    "#Answer\n",
    "def top_k(int_ary:[int],k:int)->[int]:\n",
    "    seen = {}\n",
    "    for num in int_ary:\n",
    "        if num in seen.keys():\n",
    "            seen[num] += 1\n",
    "        else:\n",
    "            seen[num] = 1\n",
    "\n",
    "    srtd = dict(sorted(seen.items(), key = lambda x: -x[1]))\n",
    "    return list(srtd.keys())[:k]\n"
   ]
  },
  {
   "cell_type": "code",
   "execution_count": 25,
   "metadata": {},
   "outputs": [
    {
     "data": {
      "text/plain": [
       "[-1, 2]"
      ]
     },
     "execution_count": 25,
     "metadata": {},
     "output_type": "execute_result"
    }
   ],
   "source": [
    "#Tests\n",
    "top_k([4,1,-1,2,-1,2,3],2)"
   ]
  },
  {
   "cell_type": "markdown",
   "metadata": {},
   "source": [
    "### Product of Array Except Self\n",
    "\n",
    "Given an **integer array** nums, return an array answer such that *answer[i]* is equal to the *product* of all the elements of nums *except* nums[i].\n",
    "\n",
    "The product of any prefix or suffix of nums is guaranteed to fit in a 32-bit integer.\n",
    "\n",
    "You must write an algorithm that runs in O(n) time and **without** using the division operation.\n",
    "\n",
    "Example 1:\n",
    "\n",
    "Input: nums = [1,2,3,4]\n",
    "Output: [24,12,8,6]"
   ]
  },
  {
   "cell_type": "code",
   "execution_count": 65,
   "metadata": {},
   "outputs": [],
   "source": [
    "#answer\n",
    "def prdct_of_ary(nums:[int])->[int]:\n",
    "    res = [1] * (len(nums))\n",
    "\n",
    "    prefix = 1\n",
    "    for i in range(len(nums)):\n",
    "        res[i] = prefix\n",
    "        prefix *= nums[i]\n",
    "    \n",
    "    postfix = 1\n",
    "    for i in range(len(nums)-1, -1,-1):\n",
    "        res[i] *= postfix\n",
    "        postfix *= nums[i]\n",
    "    \n",
    "    return res\n"
   ]
  },
  {
   "cell_type": "code",
   "execution_count": 66,
   "metadata": {},
   "outputs": [
    {
     "data": {
      "text/plain": [
       "[24, 12, 8, 6]"
      ]
     },
     "execution_count": 66,
     "metadata": {},
     "output_type": "execute_result"
    }
   ],
   "source": [
    "#result\n",
    "prdct_of_ary([1,2,3,4])"
   ]
  },
  {
   "cell_type": "markdown",
   "metadata": {},
   "source": [
    "### Valid Sudoku **\n",
    "\n",
    "Determine if a *9 x 9* Sudoku board is valid. Only the filled cells need to be validated **according to the following rules**:\n",
    "\n",
    "Each row must contain the digits *1-9* without repetition.\n",
    "\n",
    "Each column must contain the digits *1-9* without repetition.\n",
    "\n",
    "Each of the nine *3 x 3* sub-boxes of the grid must contain the digits *1-9* without repetition.\n",
    "\n",
    "**Note:**\n",
    "\n",
    "A Sudoku board (partially filled) could be valid but is not necessarily solvable.\n",
    "\n",
    "Only the filled cells need to be validated according to the mentioned rules.\n",
    " \n",
    " **Example**\n",
    "\n",
    " Input: board = \n",
    "[[\"5\",\"3\",\".\",\".\",\"7\",\".\",\".\",\".\",\".\"]\n",
    ",[\"6\",\".\",\".\",\"1\",\"9\",\"5\",\".\",\".\",\".\"]\n",
    ",[\".\",\"9\",\"8\",\".\",\".\",\".\",\".\",\"6\",\".\"]\n",
    ",[\"8\",\".\",\".\",\".\",\"6\",\".\",\".\",\".\",\"3\"]\n",
    ",[\"4\",\".\",\".\",\"8\",\".\",\"3\",\".\",\".\",\"1\"]\n",
    ",[\"7\",\".\",\".\",\".\",\"2\",\".\",\".\",\".\",\"6\"]\n",
    ",[\".\",\"6\",\".\",\".\",\".\",\".\",\"2\",\"8\",\".\"]\n",
    ",[\".\",\".\",\".\",\"4\",\"1\",\"9\",\".\",\".\",\"5\"]\n",
    ",[\".\",\".\",\".\",\".\",\"8\",\".\",\".\",\"7\",\"9\"]]\n",
    "Output: true"
   ]
  },
  {
   "cell_type": "code",
   "execution_count": 38,
   "metadata": {},
   "outputs": [],
   "source": [
    "def isValidSudoku(board):\n",
    "\n",
    "    def valid(arr):\n",
    "        seen = set()\n",
    "        for val in arr:\n",
    "            if val == \".\":\n",
    "                continue \n",
    "            if val in seen:\n",
    "                return False\n",
    "            seen.add(val)\n",
    "        return True \n",
    "    \n",
    "    #Row check\n",
    "    for row in board:\n",
    "        if not valid(row):\n",
    "            return False\n",
    "    \n",
    "    #Column check \n",
    "    for j in range(9):\n",
    "        col = [board[i][j] for i in range(9)]\n",
    "        if not valid(col):\n",
    "            return False\n",
    "    \n",
    "    #Block check \n",
    "    for i in range(0,9,3):\n",
    "        for j in range(0,9,3):\n",
    "            block = [board[k][l] for k in range(i, i+3) for l in range(j, j+3)]\n",
    "            print(block)\n",
    "            if not valid(block):\n",
    "                return False\n",
    "            \n",
    "    return True\n",
    "            "
   ]
  },
  {
   "cell_type": "code",
   "execution_count": 39,
   "metadata": {},
   "outputs": [
    {
     "name": "stdout",
     "output_type": "stream",
     "text": [
      "['5', '3', '.', '6', '.', '.', '.', '9', '8']\n",
      "['.', '7', '.', '1', '9', '5', '.', '.', '.']\n",
      "['.', '.', '.', '.', '.', '.', '.', '6', '.']\n",
      "['8', '.', '.', '4', '.', '.', '7', '.', '.']\n",
      "['.', '6', '.', '8', '.', '3', '.', '2', '.']\n",
      "['.', '.', '3', '.', '.', '1', '.', '.', '6']\n",
      "['.', '6', '.', '.', '.', '.', '.', '.', '.']\n",
      "['.', '.', '.', '4', '1', '9', '.', '8', '.']\n",
      "['2', '8', '.', '.', '.', '5', '.', '7', '9']\n",
      "0\n",
      "3\n",
      "6\n"
     ]
    }
   ],
   "source": [
    "board = [\n",
    "    [\"5\",\"3\",\".\",\".\",\"7\",\".\",\".\",\".\",\".\"]\n",
    "    ,[\"6\",\".\",\".\",\"1\",\"9\",\"5\",\".\",\".\",\".\"]\n",
    "    ,[\".\",\"9\",\"8\",\".\",\".\",\".\",\".\",\"6\",\".\"]\n",
    "    ,[\"8\",\".\",\".\",\".\",\"6\",\".\",\".\",\".\",\"3\"]\n",
    "    ,[\"4\",\".\",\".\",\"8\",\".\",\"3\",\".\",\".\",\"1\"]  \n",
    "    ,[\"7\",\".\",\".\",\".\",\"2\",\".\",\".\",\".\",\"6\"]\n",
    "    ,[\".\",\"6\",\".\",\".\",\".\",\".\",\"2\",\"8\",\".\"]\n",
    "    ,[\".\",\".\",\".\",\"4\",\"1\",\"9\",\".\",\".\",\"5\"]\n",
    "    ,[\".\",\".\",\".\",\".\",\"8\",\".\",\".\",\"7\",\"9\"]]\n",
    "\n",
    "isValidSudoku(board)\n",
    "for i in range(0,9,3):\n",
    "    print(i)"
   ]
  },
  {
   "cell_type": "code",
   "execution_count": 16,
   "metadata": {},
   "outputs": [
    {
     "ename": "ValueError",
     "evalue": "invalid literal for int() with base 10: '.'",
     "output_type": "error",
     "traceback": [
      "\u001b[1;31m---------------------------------------------------------------------------\u001b[0m",
      "\u001b[1;31mValueError\u001b[0m                                Traceback (most recent call last)",
      "\u001b[1;32mc:\\Users\\OliverLeyshon\\Leet\\leet-questions\\neet_code_roadmap\\1_arrays_and_hashing.ipynb Cell 24\u001b[0m line \u001b[0;36m2\n\u001b[0;32m      <a href='vscode-notebook-cell:/c%3A/Users/OliverLeyshon/Leet/leet-questions/neet_code_roadmap/1_arrays_and_hashing.ipynb#X33sZmlsZQ%3D%3D?line=0'>1</a>\u001b[0m ex \u001b[39m=\u001b[39m \u001b[39m'\u001b[39m\u001b[39m.\u001b[39m\u001b[39m'\u001b[39m\n\u001b[1;32m----> <a href='vscode-notebook-cell:/c%3A/Users/OliverLeyshon/Leet/leet-questions/neet_code_roadmap/1_arrays_and_hashing.ipynb#X33sZmlsZQ%3D%3D?line=1'>2</a>\u001b[0m ex2 \u001b[39m=\u001b[39m \u001b[39mint\u001b[39;49m(ex)\n\u001b[0;32m      <a href='vscode-notebook-cell:/c%3A/Users/OliverLeyshon/Leet/leet-questions/neet_code_roadmap/1_arrays_and_hashing.ipynb#X33sZmlsZQ%3D%3D?line=2'>3</a>\u001b[0m \u001b[39mprint\u001b[39m(\u001b[39mtype\u001b[39m(ex2))\n",
      "\u001b[1;31mValueError\u001b[0m: invalid literal for int() with base 10: '.'"
     ]
    }
   ],
   "source": []
  }
 ],
 "metadata": {
  "kernelspec": {
   "display_name": "venv",
   "language": "python",
   "name": "python3"
  },
  "language_info": {
   "codemirror_mode": {
    "name": "ipython",
    "version": 3
   },
   "file_extension": ".py",
   "mimetype": "text/x-python",
   "name": "python",
   "nbconvert_exporter": "python",
   "pygments_lexer": "ipython3",
   "version": "3.11.4"
  }
 },
 "nbformat": 4,
 "nbformat_minor": 2
}
